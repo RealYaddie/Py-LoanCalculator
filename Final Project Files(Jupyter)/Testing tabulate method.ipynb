{
 "cells": [
  {
   "cell_type": "code",
   "execution_count": 7,
   "metadata": {},
   "outputs": [],
   "source": [
    "from tabulate import tabulate"
   ]
  },
  {
   "cell_type": "code",
   "execution_count": 8,
   "metadata": {},
   "outputs": [],
   "source": [
    "names = []\n",
    "loan_amounts = []\n",
    "interest_rates = []\n",
    "loan_durations = []\n",
    "monthly_payments = []\n",
    "total_loan_repaid = []\n",
    "compound_interests = []"
   ]
  },
  {
   "cell_type": "code",
   "execution_count": 9,
   "metadata": {},
   "outputs": [],
   "source": [
    "name = 'Leonard'\n",
    "loan_amount = 1000.0\n",
    "interest_rate = 10.0 / 100\n",
    "loan_duration = 10.0\n",
    "names.append(name)\n",
    "loan_amounts.append(loan_amount)\n",
    "interest_rates.append(interest_rate)\n",
    "loan_durations.append(loan_duration)\n",
    "\n",
    "monthly_payment = (loan_amount * interest_rate * (1 + interest_rate) ** loan_duration) / ((1 + interest_rate) ** loan_duration - 1)\n",
    "monthly_payments.append(round(monthly_payment, 5))\n",
    "\n",
    "loan_repaid = monthly_payment * loan_duration\n",
    "total_loan_repaid.append(round(loan_repaid, 5))\n",
    "\n",
    "compound_interest = loan_amount * (1 + (interest_rate / 1)) ** (1 + loan_duration)\n",
    "compound_interests.append(round(compound_interest, 5))"
   ]
  },
  {
   "cell_type": "code",
   "execution_count": 26,
   "metadata": {},
   "outputs": [
    {
     "name": "stdout",
     "output_type": "stream",
     "text": [
      "Name       Loan Amount    Interest Rate    Loan Duration    Monthly Payments    Total Amount Repaid    Compound\n",
      "-------  -------------  ---------------  ---------------  ------------------  ---------------------  ----------\n",
      "Leonard           1000              0.1               10             162.745                1627.45     2853.12\n"
     ]
    }
   ],
   "source": [
    "# data = [[names[0], loan_amounts[0], interest_rates[0]]]\n",
    "# date = [list(zip(names, loan_amounts, interest_rates, loan_durations, monthly_payments, total_loan_repaid, compound_interests))]\n",
    "date = [x for x in list(zip(names, loan_amounts, interest_rates, loan_durations, monthly_payments, total_loan_repaid, compound_interests))]\n",
    "print(tabulate(date, headers = ['Name', 'Loan Amount', 'Interest Rate', 'Loan Duration', 'Monthly Payments', 'Total Amount Repaid', 'Compound']))"
   ]
  },
  {
   "cell_type": "code",
   "execution_count": 18,
   "metadata": {},
   "outputs": [
    {
     "name": "stdout",
     "output_type": "stream",
     "text": [
      "[('Leonard', 1000.0, 0.1, 10.0, 162.74539, 1627.45395, 2853.11671)]\n"
     ]
    }
   ],
   "source": [
    "print(list(zip(names, loan_amounts, interest_rates, loan_durations, monthly_payments, total_loan_repaid, compound_interests)))"
   ]
  },
  {
   "cell_type": "code",
   "execution_count": null,
   "metadata": {},
   "outputs": [],
   "source": []
  }
 ],
 "metadata": {
  "kernelspec": {
   "display_name": "Python 3",
   "language": "python",
   "name": "python3"
  },
  "language_info": {
   "codemirror_mode": {
    "name": "ipython",
    "version": 3
   },
   "file_extension": ".py",
   "mimetype": "text/x-python",
   "name": "python",
   "nbconvert_exporter": "python",
   "pygments_lexer": "ipython3",
   "version": "3.8.3"
  }
 },
 "nbformat": 4,
 "nbformat_minor": 4
}
