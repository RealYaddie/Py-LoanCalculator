{
 "cells": [
  {
   "cell_type": "code",
   "execution_count": null,
   "metadata": {},
   "outputs": [],
   "source": [
    "#Getting the loan amount\n",
    "# ~ loan_amount = float(input(\"Enter the principal amount: \"))\n",
    "# ~ #Getting the interest rate\n",
    "# ~ interest_rate = float(input(\"Enter the interest rate on the loan amount: \"))\n",
    "# ~ #Getting the loan duration\n",
    "# ~ loan_duration = float(input(\"Enter the number of years that you have to repay the loan: \"))"
   ]
  },
  {
   "cell_type": "code",
   "execution_count": 1,
   "metadata": {},
   "outputs": [],
   "source": [
    "loan_amount = 1000.0\n",
    "interest_rate = 10.0 / 100\n",
    "loan_duration = 10.0"
   ]
  },
  {
   "cell_type": "code",
   "execution_count": 5,
   "metadata": {},
   "outputs": [],
   "source": [
    "monthly_payment = (loan_amount * interest_rate * (1 + interest_rate) ** loan_duration) / ((1 + interest_rate) ** loan_duration - 1)\n",
    "\n",
    "loan_repaid = monthly_payment * loan_duration\n",
    "\n",
    "compound_interest = loan_amount * (1 + (interest_rate / 1)) ** (1 + loan_duration)"
   ]
  },
  {
   "cell_type": "code",
   "execution_count": 6,
   "metadata": {},
   "outputs": [
    {
     "name": "stdout",
     "output_type": "stream",
     "text": [
      "The total amount to be paid back is $1627.45 \n",
      "The total amount to be paid back monthly is $162.75 \n",
      "The compound interest on the loan is $2853.12 \n",
      "\n"
     ]
    }
   ],
   "source": [
    "print(\n",
    "f\"\"\"The total amount to be paid back is ${loan_repaid:.2f} \n",
    "The total amount to be paid back monthly is ${monthly_payment:.2f} \n",
    "The compound interest on the loan is ${compound_interest:.2f} \n",
    "\"\"\")"
   ]
  },
  {
   "cell_type": "code",
   "execution_count": null,
   "metadata": {},
   "outputs": [],
   "source": []
  }
 ],
 "metadata": {
  "kernelspec": {
   "display_name": "Python 3",
   "language": "python",
   "name": "python3"
  },
  "language_info": {
   "codemirror_mode": {
    "name": "ipython",
    "version": 3
   },
   "file_extension": ".py",
   "mimetype": "text/x-python",
   "name": "python",
   "nbconvert_exporter": "python",
   "pygments_lexer": "ipython3",
   "version": "3.8.3"
  }
 },
 "nbformat": 4,
 "nbformat_minor": 4
}
